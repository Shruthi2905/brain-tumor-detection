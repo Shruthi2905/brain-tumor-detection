{
 "cells": [
  {
   "cell_type": "code",
   "execution_count": 99,
   "id": "00d2f7e0-fa25-43da-aa4e-7ddb63ecf3ef",
   "metadata": {
    "tags": []
   },
   "outputs": [],
   "source": [
    "import tensorflow as tf\n",
    "from tensorflow.keras import layers, models, applications, callbacks\n",
    "from tensorflow.keras.preprocessing.image import ImageDataGenerator\n",
    "import numpy as np\n",
    "import cv2\n",
    "import os\n"
   ]
  },
  {
   "cell_type": "code",
   "execution_count": 100,
   "id": "a6aa1c60-fc55-4297-af98-cd5d8cd47b97",
   "metadata": {
    "tags": []
   },
   "outputs": [],
   "source": [
    "# Configuration\n",
    "IMG_SIZE = 224\n",
    "BATCH_SIZE = 32\n",
    "EPOCHS = 15\n",
    "NUM_CLASSES = 4\n"
   ]
  },
  {
   "cell_type": "code",
   "execution_count": 101,
   "id": "1854b9ac-deb5-41c4-b555-57140eee5a15",
   "metadata": {
    "tags": []
   },
   "outputs": [],
   "source": [
    "# Use EfficientNet's native preprocessing\n",
    "def preprocess(image):\n",
    "    return applications.efficientnet.preprocess_input(image)"
   ]
  },
  {
   "cell_type": "code",
   "execution_count": 102,
   "id": "9b7ab7a2-55fd-43c0-9e62-a193e5eb95c8",
   "metadata": {
    "tags": []
   },
   "outputs": [
    {
     "name": "stdout",
     "output_type": "stream",
     "text": [
      "Found 2297 images belonging to 4 classes.\n",
      "Found 0 images belonging to 4 classes.\n",
      "Class indices: {'glioma_tumor': 0, 'meningioma_tumor': 1, 'no_tumor': 2, 'pituitary_tumor': 3}\n"
     ]
    }
   ],
   "source": [
    "# Data generators with proper preprocessing\n",
    "train_datagen = ImageDataGenerator(\n",
    "    preprocessing_function=preprocess,\n",
    "    rotation_range=25,\n",
    "    width_shift_range=0.25,\n",
    "    height_shift_range=0.25,\n",
    "    shear_range=0.25,\n",
    "    zoom_range=0.25,\n",
    "    horizontal_flip=True,\n",
    "    validation_split=0.2\n",
    ")\n",
    "\n",
    "val_datagen = ImageDataGenerator(preprocessing_function=preprocess)\n",
    "\n",
    "# Dataset loading - verify your directory structure matches class names\n",
    "train_ds = train_datagen.flow_from_directory(\n",
    "    'brain-tumor-mri-dataset/brain_tumor_dataset/brain_tumor_classification/Training',\n",
    "    target_size=(IMG_SIZE, IMG_SIZE),\n",
    "    batch_size=BATCH_SIZE,\n",
    "    class_mode='categorical',\n",
    "    subset='training'\n",
    ")\n",
    "\n",
    "val_ds = val_datagen.flow_from_directory(\n",
    "    'brain-tumor-mri-dataset/brain_tumor_dataset/brain_tumor_classification/Testing',\n",
    "    target_size=(IMG_SIZE, IMG_SIZE),\n",
    "    batch_size=BATCH_SIZE,\n",
    "    class_mode='categorical',\n",
    "    subset='validation'\n",
    ")\n",
    "\n",
    "# Verify class indices match your expectations\n",
    "print(\"Class indices:\", train_ds.class_indices)\n"
   ]
  },
  {
   "cell_type": "code",
   "execution_count": 103,
   "id": "34c6bc87-44bd-49dd-8cde-0a8809ac2c2b",
   "metadata": {
    "tags": []
   },
   "outputs": [],
   "source": [
    "# Improved model architecture\n",
    "def create_model():\n",
    "    base_model = applications.EfficientNetB0(\n",
    "        include_top=False,\n",
    "        weights='imagenet',\n",
    "        input_shape=(IMG_SIZE, IMG_SIZE, 3)\n",
    "    )\n",
    "    \n",
    "    # Partial unfreezing for better adaptation\n",
    "    base_model.trainable = True\n",
    "    for layer in base_model.layers[:-8]:\n",
    "        layer.trainable = False\n",
    "\n",
    "    inputs = layers.Input(shape=(IMG_SIZE, IMG_SIZE, 3))\n",
    "    x = base_model(inputs)\n",
    "    x = layers.GlobalAveragePooling2D()(x)\n",
    "    x = layers.Dense(256, activation='relu')(x)\n",
    "    x = layers.Dropout(0.4)(x)\n",
    "    x = layers.BatchNormalization()(x)\n",
    "    outputs = layers.Dense(NUM_CLASSES, activation='softmax')(x)\n",
    "    \n",
    "    model = models.Model(inputs, outputs)\n",
    "    \n",
    "    # Lower learning rate with cosine decay\n",
    "    optimizer = tf.keras.optimizers.Adam(\n",
    "        learning_rate=tf.keras.optimizers.schedules.CosineDecay(\n",
    "            initial_learning_rate=1e-4,\n",
    "            decay_steps=len(train_ds)*EPOCHS\n",
    "        )\n",
    "    )\n",
    "    \n",
    "    model.compile(\n",
    "        optimizer=optimizer,\n",
    "        loss='categorical_crossentropy',\n",
    "        metrics=['accuracy']\n",
    "    )\n",
    "    return model\n"
   ]
  },
  {
   "cell_type": "code",
   "execution_count": 104,
   "id": "84c8257e-7c32-4fbe-9909-52bdaee6b8f9",
   "metadata": {
    "tags": []
   },
   "outputs": [],
   "source": [
    "# Enhanced callbacks\n",
    "callbacks = [\n",
    "    callbacks.ModelCheckpoint(\n",
    "        'best_model.keras',\n",
    "        monitor='accuracy',\n",
    "        save_best_only=True,\n",
    "        mode='max'\n",
    "    ),\n",
    "    callbacks.ReduceLROnPlateau(\n",
    "        monitor='loss',\n",
    "        factor=0.2,\n",
    "        patience=3,\n",
    "        min_lr=1e-6\n",
    "    ),\n",
    "    callbacks.EarlyStopping(\n",
    "        monitor='loss',\n",
    "        patience=8,\n",
    "        restore_best_weights=True\n",
    "    )\n",
    "]"
   ]
  },
  {
   "cell_type": "code",
   "execution_count": 105,
   "id": "e5eb0524-47cd-4a21-a6f9-cee09eb032df",
   "metadata": {
    "tags": []
   },
   "outputs": [
    {
     "name": "stdout",
     "output_type": "stream",
     "text": [
      "Epoch 1/15\n"
     ]
    },
    {
     "name": "stderr",
     "output_type": "stream",
     "text": [
      "2025-03-14 13:40:43.120247: E tensorflow/core/grappler/optimizers/meta_optimizer.cc:961] layout failed: INVALID_ARGUMENT: Size of values 0 does not match size of permutation 4 @ fanin shape inmodel_4/efficientnetb0/block2b_drop/dropout/SelectV2-2-TransposeNHWCToNCHW-LayoutOptimizer\n"
     ]
    },
    {
     "name": "stdout",
     "output_type": "stream",
     "text": [
      "72/72 [==============================] - 36s 349ms/step - loss: 1.0955 - accuracy: 0.5725 - lr: 9.8937e-05\n",
      "Epoch 2/15\n",
      "72/72 [==============================] - 25s 352ms/step - loss: 0.7175 - accuracy: 0.7266 - lr: 9.5736e-05\n",
      "Epoch 3/15\n",
      "72/72 [==============================] - 25s 353ms/step - loss: 0.5880 - accuracy: 0.7797 - lr: 9.0536e-05\n",
      "Epoch 4/15\n",
      "72/72 [==============================] - 25s 350ms/step - loss: 0.5705 - accuracy: 0.7928 - lr: 8.3564e-05\n",
      "Epoch 5/15\n",
      "72/72 [==============================] - 27s 372ms/step - loss: 0.5002 - accuracy: 0.8202 - lr: 7.5126e-05\n",
      "Epoch 6/15\n",
      "72/72 [==============================] - 25s 349ms/step - loss: 0.4757 - accuracy: 0.8237 - lr: 6.5589e-05\n",
      "Epoch 7/15\n",
      "72/72 [==============================] - 25s 349ms/step - loss: 0.4536 - accuracy: 0.8346 - lr: 5.5371e-05\n",
      "Epoch 8/15\n",
      "72/72 [==============================] - 25s 346ms/step - loss: 0.4062 - accuracy: 0.8498 - lr: 4.4918e-05\n",
      "Epoch 9/15\n",
      "72/72 [==============================] - 26s 356ms/step - loss: 0.3883 - accuracy: 0.8594 - lr: 3.4688e-05\n",
      "Epoch 10/15\n",
      "72/72 [==============================] - 25s 354ms/step - loss: 0.3570 - accuracy: 0.8655 - lr: 2.5126e-05\n",
      "Epoch 11/15\n",
      "72/72 [==============================] - 25s 341ms/step - loss: 0.3605 - accuracy: 0.8633 - lr: 1.6652e-05\n",
      "Epoch 12/15\n",
      "72/72 [==============================] - 26s 358ms/step - loss: 0.3680 - accuracy: 0.8607 - lr: 9.6348e-06\n",
      "Epoch 13/15\n",
      "72/72 [==============================] - 26s 360ms/step - loss: 0.3402 - accuracy: 0.8759 - lr: 4.3821e-06\n",
      "Epoch 14/15\n",
      "72/72 [==============================] - 25s 347ms/step - loss: 0.3637 - accuracy: 0.8655 - lr: 1.1231e-06\n",
      "Epoch 15/15\n",
      "72/72 [==============================] - 24s 331ms/step - loss: 0.3623 - accuracy: 0.8650 - lr: 2.1160e-10\n"
     ]
    }
   ],
   "source": [
    "# Train the model\n",
    "model = create_model()\n",
    "history = model.fit(\n",
    "    train_ds,\n",
    "    validation_data=val_ds,\n",
    "    epochs=EPOCHS,\n",
    "    callbacks=callbacks\n",
    ")\n"
   ]
  },
  {
   "cell_type": "code",
   "execution_count": 106,
   "id": "4358aefc-2ca4-40c2-b6d3-f0d0cd1af6d7",
   "metadata": {
    "tags": []
   },
   "outputs": [
    {
     "name": "stdout",
     "output_type": "stream",
     "text": [
      "INFO:tensorflow:Assets written to: brain_tumor_classifier/assets\n"
     ]
    },
    {
     "name": "stderr",
     "output_type": "stream",
     "text": [
      "INFO:tensorflow:Assets written to: brain_tumor_classifier/assets\n"
     ]
    }
   ],
   "source": [
    "# Save final model in optimized format\n",
    "model.save('brain_tumor_classifier', save_format='tf')"
   ]
  },
  {
   "cell_type": "code",
   "execution_count": 107,
   "id": "41ec8c09-4515-4de8-85be-e6b21a84387a",
   "metadata": {
    "tags": []
   },
   "outputs": [
    {
     "name": "stdout",
     "output_type": "stream",
     "text": [
      "INFO:tensorflow:Assets written to: /tmp/tmpgfhco4d5/assets\n"
     ]
    },
    {
     "name": "stderr",
     "output_type": "stream",
     "text": [
      "INFO:tensorflow:Assets written to: /tmp/tmpgfhco4d5/assets\n",
      "2025-03-14 13:48:57.817189: W tensorflow/compiler/mlir/lite/python/tf_tfl_flatbuffer_helpers.cc:378] Ignored output_format.\n",
      "2025-03-14 13:48:57.817260: W tensorflow/compiler/mlir/lite/python/tf_tfl_flatbuffer_helpers.cc:381] Ignored drop_control_dependency.\n",
      "2025-03-14 13:48:57.817505: I tensorflow/cc/saved_model/reader.cc:83] Reading SavedModel from: /tmp/tmpgfhco4d5\n",
      "2025-03-14 13:48:57.851075: I tensorflow/cc/saved_model/reader.cc:51] Reading meta graph with tags { serve }\n",
      "2025-03-14 13:48:57.851134: I tensorflow/cc/saved_model/reader.cc:146] Reading SavedModel debug info (if present) from: /tmp/tmpgfhco4d5\n",
      "2025-03-14 13:48:58.004618: I tensorflow/cc/saved_model/loader.cc:233] Restoring SavedModel bundle.\n",
      "2025-03-14 13:48:58.698319: I tensorflow/cc/saved_model/loader.cc:217] Running initialization op on SavedModel bundle at path: /tmp/tmpgfhco4d5\n",
      "2025-03-14 13:48:59.002783: I tensorflow/cc/saved_model/loader.cc:316] SavedModel load for tags { serve }; Status: success: OK. Took 1185277 microseconds.\n",
      "Summary on the non-converted ops:\n",
      "---------------------------------\n",
      " * Accepted dialects: tfl, builtin, func\n",
      " * Non-Converted Ops: 183, Total Ops 499, % non-converted = 36.67 %\n",
      " * 183 ARITH ops\n",
      "\n",
      "- arith.constant:  183 occurrences  (f32: 170, i32: 13)\n",
      "\n",
      "\n",
      "\n",
      "  (f32: 9)\n",
      "  (f32: 65)\n",
      "  (f32: 16)\n",
      "  (f32: 2)\n",
      "  (f32: 65)\n",
      "  (f32: 17)\n",
      "  (f32: 68)\n",
      "  (i32: 16)\n",
      "  (f32: 5)\n",
      "  (f32: 16)\n",
      "  (i32: 16)\n",
      "  (f32: 1)\n",
      "  (i32: 16)\n",
      "  (f32: 1)\n"
     ]
    }
   ],
   "source": [
    "# Convert to TensorFlow Lite for even smaller size (optional)\n",
    "converter = tf.lite.TFLiteConverter.from_keras_model(model)\n",
    "tflite_model = converter.convert()\n",
    "with open('brain_tumor_classifier.tflite', 'wb') as f:\n",
    "    f.write(tflite_model)"
   ]
  },
  {
   "cell_type": "code",
   "execution_count": 109,
   "id": "5f0d7591-9aa1-4b0f-a8a4-758a494fb556",
   "metadata": {
    "tags": []
   },
   "outputs": [
    {
     "name": "stdout",
     "output_type": "stream",
     "text": [
      "Found 394 images belonging to 4 classes.\n",
      "13/13 [==============================] - 2s 63ms/step - loss: 1.1727 - accuracy: 0.6904\n",
      "\n",
      "Test Accuracy: 69.04%\n",
      "Test Loss: 1.1727\n",
      "13/13 [==============================] - 2s 69ms/step\n"
     ]
    },
    {
     "data": {
      "image/png": "[encoded data removed]",
      "text/plain": [
       "<Figure size 800x600 with 2 Axes>"
      ]
     },
     "metadata": {},
     "output_type": "display_data"
    }
   ],
   "source": [
    "import seaborn as sns\n",
    "\n",
    "# Load test dataset (separate from training/validation)\n",
    "test_datagen = ImageDataGenerator(preprocessing_function=preprocess)\n",
    "test_ds = test_datagen.flow_from_directory(\n",
    "    'brain-tumor-mri-dataset/brain_tumor_dataset/brain_tumor_classification/Testing',\n",
    "    target_size=(IMG_SIZE, IMG_SIZE),\n",
    "    batch_size=BATCH_SIZE,\n",
    "    class_mode='categorical',\n",
    "    shuffle=False  # Important for correct label order\n",
    ")\n",
    "\n",
    "# Load best model\n",
    "model = tf.keras.models.load_model('brain_tumor_classifier')\n",
    "\n",
    "# 1. Calculate test accuracy\n",
    "test_loss, test_acc = model.evaluate(test_ds)\n",
    "print(f\"\\nTest Accuracy: {test_acc:.2%}\")\n",
    "print(f\"Test Loss: {test_loss:.4f}\")\n",
    "\n",
    "# 2. Generate predictions\n",
    "predictions = model.predict(test_ds)\n",
    "predicted_classes = np.argmax(predictions, axis=1)\n",
    "\n",
    "# Get true classes\n",
    "true_classes = test_ds.classes\n",
    "class_labels = list(test_ds.class_indices.keys())\n",
    "\n",
    "# 4. Confusion matrix\n",
    "cm = confusion_matrix(true_classes, predicted_classes)\n",
    "plt.figure(figsize=(8,6))\n",
    "sns.heatmap(cm, annot=True, fmt='d', cmap='Blues', \n",
    "            xticklabels=class_labels, yticklabels=class_labels)\n",
    "plt.title('Confusion Matrix')\n",
    "plt.xlabel('Predicted')\n",
    "plt.ylabel('Actual')\n",
    "plt.show()\n",
    "\n"
   ]
  },
  {
   "cell_type": "code",
   "execution_count": null,
   "id": "7a1da9ba-e11e-4b91-ab93-8bda6fe7a647",
   "metadata": {
    "tags": []
   },
   "outputs": [],
   "source": [
    "# 5. Visualize sample predictions\n",
    "plt.figure(figsize=(15, 15))\n",
    "for i in range(9):\n",
    "    ax = plt.subplot(3, 3, i + 1)\n",
    "    batch = test_ds[i % test_ds.batch_size]  # Get batch\n",
    "    img = batch[0][0]  # First image in batch\n",
    "    actual_label = class_labels[np.argmax(batch[1][0])]\n",
    "    pred_label = class_labels[predicted_classes[i]]\n",
    "    \n",
    "    # De-normalize image for display\n",
    "    img = (img * 255).astype('uint8')\n",
    "    plt.imshow(img)\n",
    "    plt.title(f\"Actual: {actual_label}\\nPredicted: {pred_label}\")\n",
    "    plt.axis('off')\n",
    "plt.tight_layout()\n",
    "plt.show()\n",
    "\n",
    "# 6. Detailed prediction analysis\n",
    "correct = np.where(predicted_classes == true_classes)[0]\n",
    "incorrect = np.where(predicted_classes != true_classes)[0]\n",
    "\n",
    "print(f\"\\nCorrect Predictions: {len(correct)} ({len(correct)/len(true_classes):.2%})\")\n",
    "print(f\"Incorrect Predictions: {len(incorrect)} ({len(incorrect)/len(true_classes):.2%})\")\n",
    "\n",
    "# Analyze top errors\n",
    "if len(incorrect) > 0:\n",
    "    print(\"\\nTop 5 Error Cases:\")\n",
    "    for i in incorrect[:5]:\n",
    "        print(f\"Image {i}:\")\n",
    "        print(f\"True: {class_labels[true_classes[i]]}\")\n",
    "        print(f\"Predicted: {class_labels[predicted_classes[i]]}\")\n",
    "        print(f\"Confidence: {np.max(predictions[i]):.2%}\\n\")"
   ]
  },
  {
   "cell_type": "code",
   "execution_count": null,
   "id": "2df9451b-2a71-49f7-bf58-7032aadd796d",
   "metadata": {},
   "outputs": [],
   "source": []
  }
 ],
 "metadata": {
  "kernelspec": {
   "display_name": "Python 3 (ipykernel)",
   "language": "python",
   "name": "python3"
  },
  "language_info": {
   "codemirror_mode": {
    "name": "ipython",
    "version": 3
   },
   "file_extension": ".py",
   "mimetype": "text/x-python",
   "name": "python",
   "nbconvert_exporter": "python",
   "pygments_lexer": "ipython3",
   "version": "3.11.7"
  }
 },
 "nbformat": 4,
 "nbformat_minor": 5
}
