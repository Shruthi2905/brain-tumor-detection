{
 "cells": [
  {
   "cell_type": "code",
   "execution_count": 1,
   "metadata": {},
   "outputs": [
    {
     "name": "stdout",
     "output_type": "stream",
     "text": [
      "Dataset extracted to: \n",
      "Deleted zip file: archive.zip\n"
     ]
    }
   ],
   "source": [
    "import zipfile\n",
    "import os\n",
    "\n",
    "def unzip_and_delete(zip_file_path):\n",
    "    \"\"\"\n",
    "    Unzips a file in its current directory and deletes the zip file.\n",
    "\n",
    "    :param zip_file_path: Path to the zip file.\n",
    "    \"\"\"\n",
    "    # Get the directory of the zip file\n",
    "    output_dir = os.path.dirname(zip_file_path)\n",
    "\n",
    "    # Unzip the file\n",
    "    with zipfile.ZipFile(zip_file_path, 'r') as zip_ref:\n",
    "        zip_ref.extractall(output_dir)\n",
    "        print(f\"Dataset extracted to: {output_dir}\")\n",
    "\n",
    "    # Delete the zip file\n",
    "    os.remove(zip_file_path)\n",
    "    print(f\"Deleted zip file: {zip_file_path}\")\n",
    "\n",
    "# Example usage:\n",
    "zip_file_path = \"archive.zip\"  # Replace with your zip file path\n",
    "\n",
    "unzip_and_delete(zip_file_path)\n"
   ]
  },
  {
   "cell_type": "code",
   "execution_count": null,
   "metadata": {},
   "outputs": [],
   "source": []
  }
 ],
 "metadata": {
  "kernelspec": {
   "display_name": "Python 3",
   "language": "python",
   "name": "python3"
  },
  "language_info": {
   "codemirror_mode": {
    "name": "ipython",
    "version": 3
   },
   "file_extension": ".py",
   "mimetype": "text/x-python",
   "name": "python",
   "nbconvert_exporter": "python",
   "pygments_lexer": "ipython3",
   "version": "3.10.0"
  }
 },
 "nbformat": 4,
 "nbformat_minor": 2
}
